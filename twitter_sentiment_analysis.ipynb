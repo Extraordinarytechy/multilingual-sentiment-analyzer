{
  "nbformat": 4,
  "nbformat_minor": 0,
  "metadata": {
    "colab": {
      "provenance": [],
      "authorship_tag": "ABX9TyMpHKHeUtbIXjm6YO4B61BQ"
    },
    "kernelspec": {
      "name": "python3",
      "display_name": "Python 3"
    },
    "language_info": {
      "name": "python"
    }
  },
  "cells": [
    {
      "cell_type": "code",
      "execution_count": 13,
      "metadata": {
        "colab": {
          "base_uri": "https://localhost:8080/"
        },
        "id": "pZi5C_xMeQJs",
        "outputId": "a3a42a13-a74b-4e84-eb4a-d42190540b88"
      },
      "outputs": [
        {
          "output_type": "stream",
          "name": "stdout",
          "text": [
            "First tweet: has updated her plurk!!! (LOL) ;-) :-o  ) http://plurk.com/p/z1r66\n"
          ]
        },
        {
          "output_type": "stream",
          "name": "stderr",
          "text": [
            "Device set to use cpu\n"
          ]
        },
        {
          "output_type": "stream",
          "name": "stdout",
          "text": [
            "Tweet: has updated her plurk!!! (LOL) ;-) :-o  ) http://plurk.com/p/z1r66\n",
            "Sentiment: 4 stars (Score: 0.28)\n",
            "\n",
            "Tweet: @swtnlocarb looks like fun  I wish I could have gone. Pokey is on his way home. Tell me a funny from him.\n",
            "Sentiment: 4 stars (Score: 0.40)\n",
            "\n",
            "Tweet: @cowfish Hello there!   http://twitpic.com/69aun\n",
            "Sentiment: 5 stars (Score: 0.30)\n",
            "\n"
          ]
        }
      ],
      "source": [
        "from datasets import load_dataset\n",
        "\n",
        "# Load Twitter sentiment dataset (no Drive needed)\n",
        "dataset = load_dataset(\"sentiment140\", split=\"train\").shuffle().select(range(50))\n",
        "df = dataset.to_pandas()\n",
        "print(\"First tweet:\", df.iloc[0][\"text\"])\n",
        "\n",
        "from transformers import pipeline\n",
        "\n",
        "classifier = pipeline(\"text-classification\",\n",
        "                     model=\"nlptown/bert-base-multilingual-uncased-sentiment\")\n",
        "\n",
        "# Analyze first 3 tweets\n",
        "for i in range(3):\n",
        "    text = df.iloc[i][\"text\"]\n",
        "    result = classifier(text)\n",
        "    print(f\"Tweet: {text}\\nSentiment: {result[0]['label']} (Score: {result[0]['score']:.2f})\\n\")"
      ]
    }
  ]
}